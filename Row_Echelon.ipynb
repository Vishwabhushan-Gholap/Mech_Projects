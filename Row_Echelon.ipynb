{
 "cells": [
  {
   "cell_type": "code",
   "execution_count": 1,
   "metadata": {},
   "outputs": [],
   "source": [
    "import numpy as np"
   ]
  },
  {
   "cell_type": "code",
   "execution_count": 2,
   "metadata": {},
   "outputs": [],
   "source": [
    "def calculate_total(numbers):\n",
    "    total = 0\n",
    "    for i in range(len(numbers)): \n",
    "        total += numbers[i]\n",
    "    return total\n",
    "\n",
    "def Row_Echelon(A):\n",
    "    result=0\n",
    "    m,n = np.shape(A)\n",
    "    #1\n",
    "    #to find the position of first zero row   \n",
    "    for i in range(m):\n",
    "        sum = 0\n",
    "        sum = calculate_total(A[i,:])\n",
    "        if sum==0:\n",
    "            break\n",
    "        else:\n",
    "            continue\n",
    "    #to check wether rows below it are zero rows\n",
    "    if (i+1)!=m:    \n",
    "        for j in range(i+1,m):\n",
    "            sum = 0\n",
    "            sum = calculate_total(A[j,:])\n",
    "            if sum !=0:\n",
    "                result = 0 #not row ech\n",
    "                break\n",
    "            else:\n",
    "                result=1   #row ech\n",
    "                continue\n",
    "    else:\n",
    "        i=i+1\n",
    "        result=1\n",
    "    \n",
    "    #2\n",
    "    #to find positions of first non zero element in non zero rows \n",
    "    re=result\n",
    "    if re==1:      \n",
    "        X = []\n",
    "        for l in range(i):\n",
    "            for s in range(n):\n",
    "                if A[l,s]!=0:\n",
    "                    X.append(s)\n",
    "                    break\n",
    "                else:continue\n",
    "\n",
    "        for g in range(len(X)-1):\n",
    "            x1 = X[g]\n",
    "            x2 = X[g+1]\n",
    "            if x1<x2:\n",
    "                result =1\n",
    "                continue\n",
    "            else:\n",
    "                result = 0\n",
    "                break\n",
    "    else:\n",
    "        pass\n",
    "\n",
    "    re=result\n",
    "\n",
    "    if re==0:\n",
    "        ans = 'Not Row Echelon'\n",
    "    else:\n",
    "        ans = 'Row Echelon'\n",
    "\n",
    "    print(ans)\n",
    "    return result"
   ]
  },
  {
   "cell_type": "code",
   "execution_count": 10,
   "metadata": {},
   "outputs": [],
   "source": [
    "def reduced_row_ech(A):\n",
    "    result_ = Row_Echelon(A)\n",
    "    m,n = np.shape(A)\n",
    "    ans = 'Not reduced Row Echelon' #initialize ans\n",
    "    if result_ ==0:\n",
    "        pass\n",
    "    else:\n",
    "        for j in range(n):\n",
    "            zz=0\n",
    "            zz = calculate_total(A[:,j])\n",
    "            if zz>1:\n",
    "                result_=0\n",
    "                break\n",
    "            else:\n",
    "                result_=1\n",
    "                continue\n",
    "        if result_ ==0:\n",
    "            ans = 'Not reduced Row Echelon'\n",
    "            print(ans)\n",
    "        else:\n",
    "            ans = 'reduced Row Echelon'\n",
    "            print(ans)\n",
    "\n",
    "    \n",
    "    return result_"
   ]
  },
  {
   "cell_type": "code",
   "execution_count": 13,
   "metadata": {},
   "outputs": [
    {
     "name": "stdout",
     "output_type": "stream",
     "text": [
      "Row Echelon\n",
      "Row Echelon\n",
      "reduced Row Echelon\n"
     ]
    }
   ],
   "source": [
    "M=np.array([[1,0,0,1],[0,0,1,0],[0,0,0,0]])\n",
    "a=Row_Echelon(M)\n",
    "b=reduced_row_ech(M)\n"
   ]
  }
 ],
 "metadata": {
  "kernelspec": {
   "display_name": "Python 3",
   "language": "python",
   "name": "python3"
  },
  "language_info": {
   "codemirror_mode": {
    "name": "ipython",
    "version": 3
   },
   "file_extension": ".py",
   "mimetype": "text/x-python",
   "name": "python",
   "nbconvert_exporter": "python",
   "pygments_lexer": "ipython3",
   "version": "3.12.4"
  }
 },
 "nbformat": 4,
 "nbformat_minor": 2
}
