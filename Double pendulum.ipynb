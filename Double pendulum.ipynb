{
 "cells": [
  {
   "cell_type": "code",
   "execution_count": 11,
   "metadata": {},
   "outputs": [],
   "source": [
    "from numpy import sin, cos\n",
    "import numpy as np\n",
    "import matplotlib.pyplot as plt\n",
    "from scipy.integrate import odeint\n",
    "import matplotlib.animation as animation"
   ]
  },
  {
   "cell_type": "code",
   "execution_count": 12,
   "metadata": {},
   "outputs": [],
   "source": [
    "def derivs(u, t,G,M1,M2,L1,L2):\n",
    "    th1,w1,th2,w2=u\n",
    "    th1_=w1\n",
    "    th2_=w2\n",
    "    delta = th2-th1\n",
    "    den1 = (M1 + M2) * L1 - M2 * L1 * cos(delta) * cos(delta)\n",
    "    w1_= ((M2 * L1 * (w1**2) * sin(delta) * cos(delta)\n",
    "                + M2 * G * sin(th2) * cos(delta)\n",
    "                + M2 * L2 * (w2**2) * sin(delta)\n",
    "                - (M1 + M2) * G * sin(th1))\n",
    "               / den1)\n",
    "    den2 = (L2 / L1) * den1\n",
    "    w2_ = ((- M2 * L2 * (w2**2) * sin(delta) * cos(delta)\n",
    "                + (M1 + M2) * G * sin(th1) * cos(delta)\n",
    "                - (M1 + M2) * L1 * (w1**2) * sin(delta)\n",
    "                - (M1 + M2) * G * sin(th2))\n",
    "               / den2)\n",
    "\n",
    "    return np.array([th1_,w1_,th2_,w2_])"
   ]
  },
  {
   "cell_type": "code",
   "execution_count": 15,
   "metadata": {},
   "outputs": [
    {
     "data": {
      "image/png": "[encoded data removed]",
      "text/plain": [
       "<Figure size 640x480 with 1 Axes>"
      ]
     },
     "metadata": {},
     "output_type": "display_data"
    }
   ],
   "source": [
    "\n",
    "# create a time array from 0..100 sampled at 0.05 second steps\n",
    "dt = 0.05\n",
    "t = np.arange(0, 10, dt)\n",
    "#parameters\n",
    "G  = 9.8  # acceleration due to gravity, in m/s^2\n",
    "L1 = 1.0  # length of pendulum 1m\n",
    "L2 = 2.0  # length of pendulum 2m\n",
    "M1 = 1.0  # mass of pendulum 1kg\n",
    "M2 = 2.0  # mass of pendulum 2kg\n",
    "# initial state\n",
    "state = np.array([np.pi/2,5,-np.pi/10,5])\n",
    "\n",
    "y = odeint(derivs, state, t,args=(G,M1,M2,L1,L2))\n",
    "\n",
    "x1 = L1 * sin(y[:, 0])\n",
    "y1 = -L1 * cos(y[:, 0])\n",
    "\n",
    "x2 = L2 * sin(y[:, 2]) + x1\n",
    "y2 = -L2 * cos(y[:, 2]) + y1\n",
    "\n",
    "fig = plt.figure()\n",
    "ax = fig.add_subplot(111, autoscale_on=False, xlim=(-2, 2), ylim=(-2, 2))\n",
    "ax.set_aspect('equal')\n",
    "ax.grid()\n",
    "\n",
    "line, = ax.plot([], [], 'red', lw=2)\n",
    "time_template = 'time = %.1fs'\n",
    "time_text = ax.text(0.05, 0.9, '', transform=ax.transAxes)\n",
    "\n",
    "def init():\n",
    "    line.set_data([], [])\n",
    "\n",
    "    time_text.set_text('')\n",
    "\n",
    "    return line, time_text\n",
    "\n",
    "def animate(i):\n",
    "    thisx = [0, x1[i], x2[i]]\n",
    "    thisy = [0, y1[i], y2[i]]\n",
    "    line.set_data(thisx, thisy)\n",
    "    time_text.set_text(time_template % (i * dt))\n",
    "\n",
    "\n",
    "\n",
    "    return line,time_text\n",
    "\n",
    "ani = animation.FuncAnimation(fig, animate, range(1, len(y)),\n",
    "                              interval=20, blit=True, init_func=init)\n",
    "\n",
    "\n",
    "plt.show()"
   ]
  },
  {
   "cell_type": "code",
   "execution_count": 16,
   "metadata": {},
   "outputs": [
    {
     "name": "stderr",
     "output_type": "stream",
     "text": [
      "MovieWriter imagemagick unavailable; using Pillow instead.\n"
     ]
    }
   ],
   "source": [
    "ani.save('Double_pendulum.gif',writer='imagemagick')"
   ]
  },
  {
   "cell_type": "code",
   "execution_count": null,
   "metadata": {},
   "outputs": [],
   "source": []
  }
 ],
 "metadata": {
  "kernelspec": {
   "display_name": "Python 3",
   "language": "python",
   "name": "python3"
  },
  "language_info": {
   "codemirror_mode": {
    "name": "ipython",
    "version": 3
   },
   "file_extension": ".py",
   "mimetype": "text/x-python",
   "name": "python",
   "nbconvert_exporter": "python",
   "pygments_lexer": "ipython3",
   "version": "3.11.3"
  }
 },
 "nbformat": 4,
 "nbformat_minor": 2
}
